{
 "cells": [
  {
   "cell_type": "code",
   "execution_count": 6,
   "id": "11ea5706",
   "metadata": {},
   "outputs": [
    {
     "name": "stdout",
     "output_type": "stream",
     "text": [
      "Enter no. of bananas at starting: 3000\n",
      "Enter the distance you want to cover: 500\n",
      "Enter the Maximum capacity of your camel: 500\n",
      "The maximum number of bananas that can be transferred to the destination using only camel: 438\n"
     ]
    }
   ],
   "source": [
    "total = int(input('Enter no. of bananas at starting: '))\n",
    "distance = int(input('Enter the distance you want to cover: '))\n",
    "capacity = int(input('Enter the Maximum capacity of your camel: '))\n",
    "lose = 0\n",
    "start = total\n",
    "for i in range(distance):\n",
    "    while start > 0:\n",
    "        start = start-capacity\n",
    "\n",
    "        if start == 1:\n",
    "            lose = lose-1\n",
    "        lose = lose+2\n",
    "\n",
    "    lose = lose-1\n",
    "    start = total-lose\n",
    "    if start == 0:\n",
    "        break\n",
    "\n",
    "print(\n",
    "    f\"The maximum number of bananas that can be transferred to the destination using only camel: {start}\")\n",
    "#print(f\"Bananas consumed by Camel : {lose}\")"
   ]
  },
  {
   "cell_type": "code",
   "execution_count": null,
   "id": "4c7a1025",
   "metadata": {},
   "outputs": [],
   "source": []
  }
 ],
 "metadata": {
  "kernelspec": {
   "display_name": "Python 3",
   "language": "python",
   "name": "python3"
  },
  "language_info": {
   "codemirror_mode": {
    "name": "ipython",
    "version": 3
   },
   "file_extension": ".py",
   "mimetype": "text/x-python",
   "name": "python",
   "nbconvert_exporter": "python",
   "pygments_lexer": "ipython3",
   "version": "3.9.5"
  }
 },
 "nbformat": 4,
 "nbformat_minor": 5
}
